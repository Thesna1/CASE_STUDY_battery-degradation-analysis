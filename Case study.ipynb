{
 "cells": [
  {
   "cell_type": "code",
   "execution_count": null,
   "id": "7ec832c2",
   "metadata": {},
   "outputs": [],
   "source": [
    "import pandas as pd\n",
    "import datetime\n",
    "import numpy as np\n",
    "import matplotlib.pyplot as plt\n",
    "import seaborn as sns\n",
    "from sklearn.pipeline import Pipeline\n",
    "from sklearn.preprocessing import StandardScaler, PolynomialFeatures\n",
    "from sklearn.linear_model import Ridge\n",
    "from sklearn.model_selection import GridSearchCV\n",
    "from sklearn.metrics import mean_squared_error, r2_score\n",
    "from scipy.optimize import curve_fit\n",
    "import plotly.graph_objs as go\n",
    "import plotly.offline as pyo\n",
    "\n"
   ]
  },
  {
   "cell_type": "markdown",
   "id": "c00d0a6f",
   "metadata": {},
   "source": [
    "## Import the 2 datasets and join them as one file. "
   ]
  },
  {
   "cell_type": "code",
   "execution_count": null,
   "id": "158473ca",
   "metadata": {},
   "outputs": [],
   "source": [
    "# Load each dataset\n",
    "df1 = pd.read_excel('D:\\Case Study\\LR1865SZ_cycles201214_002_4.xlsx')\n",
    "df2 = pd.read_excel('D:\\Case Study\\LR1865SZ_cycles201217_001_2.xlsx')\n"
   ]
  },
  {
   "cell_type": "code",
   "execution_count": null,
   "id": "03283cd8",
   "metadata": {},
   "outputs": [],
   "source": [
    "#Inspect their features and types\n",
    "print(\"Dataset 1 columns:\", df1.columns.tolist())\n",
    "print(df1.dtypes, end=\"\\n\\n\")\n",
    "\n",
    "print(\"Dataset 2 columns:\", df2.columns.tolist())\n",
    "print(df2.dtypes, end=\"\\n\\n\")"
   ]
  },
  {
   "cell_type": "code",
   "execution_count": null,
   "id": "68c14ba4",
   "metadata": {},
   "outputs": [],
   "source": [
    "df1"
   ]
  },
  {
   "cell_type": "code",
   "execution_count": null,
   "id": "40534f57",
   "metadata": {},
   "outputs": [],
   "source": [
    "df2"
   ]
  },
  {
   "cell_type": "code",
   "execution_count": null,
   "id": "16bca8f3",
   "metadata": {},
   "outputs": [],
   "source": [
    "# Tag it as different cell\n",
    "df1['source'] = 'Test cell 1'\n",
    "df2['source'] = 'Test cell 2'"
   ]
  },
  {
   "cell_type": "code",
   "execution_count": null,
   "id": "3f31af57",
   "metadata": {},
   "outputs": [],
   "source": [
    "#Stack both the cells\n",
    "df_all = pd.concat([df1, df2], ignore_index=True)\n",
    "\n",
    "# Test conditions\n",
    "\n",
    "print(df_all.groupby('source')['Current(A)'].agg(['min','max']))\n",
    "print(df_all.groupby('source')['Cycle_Index'].max())"
   ]
  },
  {
   "cell_type": "markdown",
   "id": "80bfc4cc",
   "metadata": {},
   "source": [
    "Here df_all contains the combined data for both cells with a source column showing cell 1 vs cell 2. Here both the cells have 101 cycles. The test cell 1 was cycled at ~4.8 A at cell capacity 2.3 Ah and test cell 2 was cycled at ~7.2 A at cell capacity 2.3 Ah which will indicate us to compare performance at two different C-rates."
   ]
  },
  {
   "cell_type": "markdown",
   "id": "1edb5a43",
   "metadata": {},
   "source": [
    "## Analysing voltage, time, current, capacity, energy and cycle_Index "
   ]
  },
  {
   "cell_type": "markdown",
   "id": "1add1a45",
   "metadata": {},
   "source": [
    "##  Data Cleaning"
   ]
  },
  {
   "cell_type": "code",
   "execution_count": null,
   "id": "485eff8d",
   "metadata": {},
   "outputs": [],
   "source": [
    "# Turn the original column into strings\n",
    "times = df_all['Test_Time(s)'].astype(str)\n",
    "\n",
    "# Insert days for any “D-HH:MM:SS” patterns\n",
    "times = times.str.replace(r'^(\\d+)-', r'\\1 days ', regex=True)\n",
    "\n",
    "# Parse into a Timedelta series\n",
    "td = pd.to_timedelta(times, errors='coerce')\n",
    "\n",
    "# Extract total seconds into a new column\n",
    "df_all['Time_s'] = td.dt.total_seconds()\n",
    "\n",
    "#Now check for NaN or infinite in the numeric column\n",
    "n_nans = df_all['Time_s'].isna().sum()\n",
    "n_infs = np.isinf(df_all['Time_s']).sum()\n",
    "\n",
    "print(f\"NaNs in Time_s: {n_nans}\")\n",
    "print(f\"Infinite values in Time_s: {n_infs}\")\n"
   ]
  },
  {
   "cell_type": "markdown",
   "id": "7dca25a7",
   "metadata": {},
   "source": [
    "Converted Test_Time(s) values including multi-day spans into a single numeric seconds column which is  Time_s."
   ]
  },
  {
   "cell_type": "code",
   "execution_count": null,
   "id": "93bcda65",
   "metadata": {},
   "outputs": [],
   "source": [
    " # Drop the Temperature column (not needed)\n",
    " df_all.drop(columns=['Temperature(℃)'], inplace=True)"
   ]
  },
  {
   "cell_type": "markdown",
   "id": "2cfd84b5",
   "metadata": {},
   "source": [
    "The Temperature(℃) column only contained a placeholder \"- \" and no data.Its is missing. So i dropped it.And its mentioned in data set that temperature is 25"
   ]
  },
  {
   "cell_type": "code",
   "execution_count": null,
   "id": "4cbdc32a",
   "metadata": {},
   "outputs": [],
   "source": [
    "df_all\n"
   ]
  },
  {
   "cell_type": "code",
   "execution_count": null,
   "id": "7ba1cff0",
   "metadata": {},
   "outputs": [],
   "source": [
    "#Count nulls per column\n",
    "null_counts = df_all.isna().sum()\n",
    "\n",
    "#Count infinite values per numeric column\n",
    "inf_counts = df_all.select_dtypes(include=[np.number]) \\\n",
    "                   .apply(lambda col: np.isinf(col).sum())\n",
    "\n",
    "#Combine into a single table\n",
    "missing = pd.DataFrame({\n",
    "    'nulls': null_counts,\n",
    "    'infs':  inf_counts\n",
    "})\n",
    "\n",
    "print(missing)\n"
   ]
  },
  {
   "cell_type": "markdown",
   "id": "7fedd530",
   "metadata": {},
   "source": [
    "Checking for missing values. And missing values is 0 for all considered column. The infs column shows NaN for Date_Time, Test_Time(s) and source since its numeric dtypes there."
   ]
  },
  {
   "cell_type": "markdown",
   "id": "2eb51433",
   "metadata": {},
   "source": [
    "##   exploratory data analysis"
   ]
  },
  {
   "cell_type": "code",
   "execution_count": null,
   "id": "172a1a1f",
   "metadata": {},
   "outputs": [],
   "source": [
    "# Descriptive stats and histograms for Test Cell 1 and 2\n",
    "vars_  = ['Voltage(V)', 'Current(A)', 'Capacity(Ah)', 'Energy(Wh)']\n",
    "titles = [\"Voltage (V)\", \"Current (A)\", \"Capacity (Ah)\", \"Energy (Wh)\"]\n",
    "\n",
    "for src in df_all['source'].unique():\n",
    "    sub = df_all[df_all['source']==src]\n",
    "    print(f\"\\n\\nDescriptive stats for {src} \")\n",
    "    display(sub[vars_].describe())\n",
    "    \n",
    "    # plot histograms\n",
    "    fig, axes = plt.subplots(2,2, figsize=(10,8))\n",
    "    for ax, var, title in zip(axes.ravel(), vars_, titles):\n",
    "        sns.histplot(sub[var], bins=50, ax=ax)\n",
    "        ax.set_title(f\"{title} — {src}\")\n",
    "    plt.tight_layout()\n",
    "    plt.show()\n"
   ]
  },
  {
   "cell_type": "markdown",
   "id": "d6bc8d3d",
   "metadata": {},
   "source": [
    " Voltage is about 2.9 V (minimum during discharge) to 4.2 V (maximum charge voltage). The current is mostly constant ±4.8 A\n",
    " for cell 1 and ±7.2 A for cell 2 for active charge/discharge. It has 0 A during rest. This is can be learnt from a histogram of current which is tri-modal: a peak near the positive constant current, a peak near the negative constant current, and a spike at 0 A (rest periods). The capacity (Ah) column in each cycle typically starts at 0 and increases during a charge or discharge step. The energy (Wh) similarly starts at 0 and increases; its range and distribution closely correlate with capacity since energy =  (Voltage * Capacity). The cycle index from 1 to 101,"
   ]
  },
  {
   "cell_type": "markdown",
   "id": "d3cb8383",
   "metadata": {},
   "source": [
    "The capacity values recorded at the end of each cycle decrease over time which indicates degradation which can see in capacity vs cycle plots below"
   ]
  },
  {
   "cell_type": "code",
   "execution_count": null,
   "id": "d08092fd",
   "metadata": {},
   "outputs": [],
   "source": [
    "# Trim till the second cycle\n",
    "df_trim = df_all[df_all['Time_s'] <= 3850]\n",
    "\n",
    "# Define metrics and titles\n",
    "metrics = ['Voltage(V)', 'Current(A)', 'Capacity(Ah)', 'Energy(Wh)']\n",
    "titles  = ['Voltage vs Time', 'Current vs Time', 'Capacity vs Time', 'Energy vs Time']\n",
    "\n",
    "# Create 2×2 axes\n",
    "fig, axes = plt.subplots(2, 2, figsize=(12, 8), sharex=True)\n",
    "axes = axes.flatten()\n",
    "\n",
    "# Plot each metric\n",
    "for ax, metric, title in zip(axes, metrics, titles):\n",
    "    for src in df_trim['source'].unique():\n",
    "        sub = df_trim[df_trim['source'] == src].sort_values('Time_s')\n",
    "        ax.plot(sub['Time_s'], sub[metric], label=src)\n",
    "    ax.set_title(title)\n",
    "    ax.set_xlabel('Time (s)')\n",
    "    ax.set_ylabel(metric)\n",
    "    ax.grid(True)\n",
    "\n",
    "# Put one legend at the top of the figure\n",
    "handles, labels = axes[0].get_legend_handles_labels()\n",
    "fig.legend(handles, labels, loc='upper center', ncol=2, frameon=False)\n",
    "\n",
    "plt.tight_layout(rect=[0, 0, 1, 0.95])\n",
    "plt.show()\n"
   ]
  },
  {
   "cell_type": "code",
   "execution_count": null,
   "id": "8841461d",
   "metadata": {},
   "outputs": [],
   "source": [
    "\n",
    "# Initialize Plotly’s notebook \n",
    "pyo.init_notebook_mode(connected=True)\n",
    "\n",
    "# Subset to Test cell 1\n",
    "sub = df_all[df_all['source']=='Test cell 1'].sort_values('Time_s')\n",
    "\n",
    "# Build the WebGL trace\n",
    "fig = go.Figure(\n",
    "    go.Scattergl(\n",
    "        x=sub['Time_s'],\n",
    "        y=sub['Voltage(V)'],\n",
    "        mode='lines',\n",
    "        line=dict(color='blue', width=2),\n",
    "        hoverinfo='none'\n",
    "    )\n",
    ")\n",
    "\n",
    "# Label your axes\n",
    "fig.update_layout(\n",
    "    title=\"Voltage Profile (Test cell 1, WebGL)\",\n",
    "    xaxis_title=\"Time (s)\",\n",
    "    yaxis_title=\"Voltage (V)\",\n",
    "    template=\"plotly_white\"\n",
    ")\n",
    "\n",
    "# Display\n",
    "pyo.iplot(fig)\n",
    "\n",
    "\n",
    "# Subset to Test cell 2\n",
    "sub = df_all[df_all['source']=='Test cell 2'].sort_values('Time_s')\n",
    "\n",
    "# Build the WebGL trace\n",
    "fig = go.Figure(\n",
    "    go.Scattergl(\n",
    "        x=sub['Time_s'],\n",
    "        y=sub['Voltage(V)'],\n",
    "        mode='lines',\n",
    "        line=dict(color='blue', width=2),\n",
    "        hoverinfo='none'\n",
    "    )\n",
    ")\n",
    "\n",
    "# Label your axes\n",
    "fig.update_layout(\n",
    "    title=\"Voltage Profile (Test cell 2, WebGL)\",\n",
    "    xaxis_title=\"Time (s)\",\n",
    "    yaxis_title=\"Voltage (V)\",\n",
    "    template=\"plotly_white\"\n",
    ")\n",
    "\n",
    "# Display\n",
    "pyo.iplot(fig)\n"
   ]
  },
  {
   "cell_type": "markdown",
   "id": "e89f7ad5",
   "metadata": {},
   "source": [
    "From both WebGL it was understandable that, if we go from left to the right side of that plot, the peak voltage plateau falls slightly downward over the cycles. And The trough of end-of-discharge voltage goes upward a bit. The horizontal width of each sawtooth that means the times per cycle slowly reduces. Its shows the capacity fade. That means less Ah to charge/discharge gives shorter cycle time."
   ]
  },
  {
   "cell_type": "code",
   "execution_count": null,
   "id": "5cea9cb6",
   "metadata": {},
   "outputs": [],
   "source": [
    "#Subset to Test cell 1\n",
    "sub = df_all[df_all['source']=='Test cell 1'].sort_values('Time_s')\n",
    "\n",
    "# Build the WebGL trace\n",
    "fig = go.Figure(\n",
    "    go.Scattergl(\n",
    "        x=sub['Time_s'],\n",
    "        y=sub['Current(A)'],\n",
    "        mode='lines',\n",
    "        line=dict(color='blue', width=2),\n",
    "        hoverinfo='none'\n",
    "    )\n",
    ")\n",
    "\n",
    "# Label your axes\n",
    "fig.update_layout(\n",
    "    title=\"Current Profile (Test cell 1, WebGL)\",\n",
    "    xaxis_title=\"Time (s)\",\n",
    "    yaxis_title=\"Current(A)\",\n",
    "    template=\"plotly_white\"\n",
    ")\n",
    "\n",
    "# Display\n",
    "pyo.iplot(fig)\n",
    "\n",
    "# Subset to Test cell 1\n",
    "sub = df_all[df_all['source']=='Test cell 2'].sort_values('Time_s')\n",
    "\n",
    "# Build the WebGL trace\n",
    "fig = go.Figure(\n",
    "    go.Scattergl(\n",
    "        x=sub['Time_s'],\n",
    "        y=sub['Current(A)'],\n",
    "        mode='lines',\n",
    "        line=dict(color='blue', width=2),\n",
    "        hoverinfo='none'\n",
    "    )\n",
    ")\n",
    "\n",
    "# Label your axes\n",
    "fig.update_layout(\n",
    "    title=\"Current Profile (Test cell 2, WebGL)\",\n",
    "    xaxis_title=\"Time (s)\",\n",
    "    yaxis_title=\"Current(A)\",\n",
    "    template=\"plotly_white\"\n",
    ")\n",
    "\n",
    "# Display\n",
    "pyo.iplot(fig)"
   ]
  },
  {
   "cell_type": "markdown",
   "id": "2b3401f0",
   "metadata": {},
   "source": [
    "Its CC–CV cycling protocol. At the start of cycle that means left, all pulses have nearly identical width. It meaning each cycle took the same amount of time. From left to right, the width  plateaus gradually reduce, shows the capacity fade as seen in voltage sawtooth."
   ]
  },
  {
   "cell_type": "code",
   "execution_count": null,
   "id": "7deaa213",
   "metadata": {},
   "outputs": [],
   "source": [
    "# Subset to Test cell 1\n",
    "sub = df_all[df_all['source']=='Test cell 1'].sort_values('Time_s')\n",
    "\n",
    "# Build the WebGL trace\n",
    "fig = go.Figure(\n",
    "    go.Scattergl(\n",
    "        x=sub['Time_s'],\n",
    "        y=sub['Capacity(Ah)'],\n",
    "        mode='lines',\n",
    "        line=dict(color='blue', width=2),\n",
    "        hoverinfo='none'\n",
    "    )\n",
    ")\n",
    "\n",
    "# Label your axes\n",
    "fig.update_layout(\n",
    "    title=\"Capacity(Ah) (Test cell 1, WebGL)\",\n",
    "    xaxis_title=\"Time (s)\",\n",
    "    yaxis_title=\"Capacity(Ah)\",\n",
    "    template=\"plotly_white\"\n",
    ")\n",
    "\n",
    "# Display\n",
    "pyo.iplot(fig)\n",
    "\n",
    "\n",
    "# Subset to Test cell 2\n",
    "sub = df_all[df_all['source']=='Test cell 2'].sort_values('Time_s')\n",
    "\n",
    "# Build the WebGL trace\n",
    "fig = go.Figure(\n",
    "    go.Scattergl(\n",
    "        x=sub['Time_s'],\n",
    "        y=sub['Capacity(Ah)'],\n",
    "        mode='lines',\n",
    "        line=dict(color='blue', width=2),\n",
    "        hoverinfo='none'\n",
    "    )\n",
    ")\n",
    "\n",
    "# Label your axes\n",
    "fig.update_layout(\n",
    "    title=\"Capacity(Ah) (Test cell 2, WebGL)\",\n",
    "    xaxis_title=\"Time (s)\",\n",
    "    yaxis_title=\"Capacity(Ah)\",\n",
    "    template=\"plotly_white\"\n",
    ")\n",
    "\n",
    "# Display\n",
    "pyo.iplot(fig)\n",
    "\n"
   ]
  },
  {
   "cell_type": "markdown",
   "id": "ed088c66",
   "metadata": {},
   "source": [
    "The peak of each capacity vs time reduce if we go right. Early in life each cycle reaches ∼2.1 Ah capacity; by the end it’s down somewhat (0.3–0.5 Ah) for both the cell.So capacity is fading monotonically and the two cells behave differently because of its different C-rates.\n",
    "\n"
   ]
  },
  {
   "cell_type": "code",
   "execution_count": null,
   "id": "5f03009d",
   "metadata": {},
   "outputs": [],
   "source": [
    "df_all"
   ]
  },
  {
   "cell_type": "code",
   "execution_count": null,
   "id": "12275920",
   "metadata": {},
   "outputs": [],
   "source": [
    "\n",
    "# Needed variables\n",
    "vars_of_interest = ['Capacity(Ah)', 'Energy(Wh)', 'Current(A)', 'Time_s', 'Cycle_Index']\n",
    "\n",
    "#compute the pairwise correlation matrix\n",
    "corr = df_all[vars_of_interest].corr()\n",
    "\n",
    "# Plotting heatmap\n",
    "plt.figure(figsize=(6,5))\n",
    "sns.heatmap(\n",
    "    corr, \n",
    "    annot=True, \n",
    "    fmt=\".2f\", \n",
    "    cmap=\"vlag\", \n",
    "    cbar_kws={'label': 'Pearson ρ'}\n",
    ")\n",
    "plt.title(\"Pairwise Correlation Matrix\")\n",
    "plt.tight_layout()\n",
    "plt.show()\n",
    "\n",
    "# Scalar values:\n",
    "print(\"Capacity vs Energy:     \", corr.loc['Capacity(Ah)','Energy(Wh)'])\n",
    "print(\"Capacity vs Current:    \", corr.loc['Capacity(Ah)','Current(A)'])\n",
    "print(\"Cycle_Index vs Time_s:  \", corr.loc['Cycle_Index','Time_s'])\n"
   ]
  },
  {
   "cell_type": "markdown",
   "id": "e356abac",
   "metadata": {},
   "source": [
    "The energy vs capacity shows a linear relationship (Voltage * Capacity). A quick correlation analysis shows that capacity and energy are highly correlated that also tell higher capacity delivered means more energy. Current and capacity have little overall correlation across the whole dataset. It is because current is mostly constant in each phase, and capacity resets every cycle. Time is strongly correlated with cycle index because each cycle takes a few seconds and total test time grows with cycle count."
   ]
  },
  {
   "cell_type": "code",
   "execution_count": null,
   "id": "bdfcd785",
   "metadata": {},
   "outputs": [],
   "source": [
    "# To compute per-cycle statistics\n",
    "stat_funcs = {\n",
    "    'Voltage(V)': 'mean',\n",
    "    'Current(A)': 'mean',\n",
    "    'Capacity(Ah)': 'max',\n",
    "    'Energy(Wh)': 'max'\n",
    "}\n",
    "\n",
    "# Compute per-cycle summary\n",
    "per_cycle_all = (\n",
    "    df_all\n",
    "    .groupby(['source', 'Cycle_Index'])\n",
    "    .agg(stat_funcs)\n",
    "    .reset_index()\n",
    ")\n",
    "\n",
    "# 2x2 subplot visualization\n",
    "metrics = ['Voltage(V)', 'Current(A)', 'Capacity(Ah)', 'Energy(Wh)']\n",
    "titles  = ['Mean Voltage', 'Mean Current', 'Max Capacity', 'Max Energy']\n",
    "\n",
    "fig, axes = plt.subplots(2, 2, figsize=(12, 8), sharex=True)\n",
    "axes = axes.flatten()\n",
    "\n",
    "for ax, metric, title in zip(axes, metrics, titles):\n",
    "    for src in per_cycle_all['source'].unique():\n",
    "        sub = per_cycle_all[per_cycle_all['source'] == src]\n",
    "        ax.plot(sub['Cycle_Index'], sub[metric], marker='o', label=src)\n",
    "    ax.set_title(f'{title} vs Cycle Index')\n",
    "    ax.set_xlabel('Cycle Index')\n",
    "    ax.set_ylabel(metric)\n",
    "    ax.grid(True)\n",
    "\n",
    "# Common legend\n",
    "handles, labels = axes[0].get_legend_handles_labels()\n",
    "fig.legend(handles, labels, loc='upper center', ncol=len(labels), frameon=False)\n",
    "\n",
    "plt.tight_layout(rect=[0, 0, 1, 0.95])\n",
    "plt.show()"
   ]
  },
  {
   "cell_type": "markdown",
   "id": "0577cb1e",
   "metadata": {},
   "source": [
    "In cycle 1 it may starts mid-cycle or with a partial charge/discharge. From the data Cycle 1 it has only discharge. Including it  may effect baseline capacity calculation. Similiarly to the last cycle. So i remmoved it.\n"
   ]
  },
  {
   "cell_type": "code",
   "execution_count": null,
   "id": "883ae7f8",
   "metadata": {},
   "outputs": [],
   "source": [
    "# Identify the first and last cycle numbers\n",
    "first_cycle = df_all['Cycle_Index'].min()\n",
    "last_cycle  = df_all['Cycle_Index'].max()\n",
    "\n",
    "# Filter them out\n",
    "df_all = df_all[~df_all['Cycle_Index'].isin([first_cycle, last_cycle])].copy()\n"
   ]
  },
  {
   "cell_type": "code",
   "execution_count": null,
   "id": "4a7ce474",
   "metadata": {},
   "outputs": [],
   "source": [
    "# per‐cycle summaries\n",
    "stat_funcs = {\n",
    "    'Voltage(V)':  'mean',\n",
    "    'Current(A)':  'mean',\n",
    "    'Capacity(Ah)': 'max',\n",
    "    'Energy(Wh)':  'max',\n",
    "}\n",
    "\n",
    "per_cycle_all = (\n",
    "    df_all\n",
    "      .groupby(['source','Cycle_Index'])\n",
    "      .agg(stat_funcs)\n",
    "      .reset_index()\n",
    ")\n",
    "\n",
    "# metrics and subplot grid\n",
    "metrics = ['Voltage(V)', 'Current(A)', 'Capacity(Ah)', 'Energy(Wh)']\n",
    "titles  = ['Mean Voltage', 'Mean Current', 'Max Capacity', 'Max Energy']\n",
    "\n",
    "fig, axes = plt.subplots(2, 2, figsize=(12, 8), sharex=True)\n",
    "axes = axes.flatten()\n",
    "\n",
    "# Loop over each metric & axis\n",
    "for ax, metric, title in zip(axes, metrics, titles):\n",
    "    for src in per_cycle_all['source'].unique():\n",
    "        sub = per_cycle_all[per_cycle_all['source'] == src]\n",
    "        ax.plot(\n",
    "            sub['Cycle_Index'],\n",
    "            sub[metric],\n",
    "            marker='o',\n",
    "            label=src\n",
    "        )\n",
    "    ax.set_title(f\"{title} vs. Cycle Index\")\n",
    "    ax.set_xlabel(\"Cycle Index\")\n",
    "    ax.set_ylabel(metric)\n",
    "    ax.grid(True)\n",
    "\n",
    "# legend & layout\n",
    "axes[0].legend(loc='upper right')\n",
    "plt.tight_layout()\n",
    "plt.show()\n"
   ]
  },
  {
   "cell_type": "markdown",
   "id": "5d24590a",
   "metadata": {},
   "source": [
    "These characteristics can be used to calculate batteries’ ultimate beneficial life (RUL). "
   ]
  },
  {
   "cell_type": "markdown",
   "id": "55a38564",
   "metadata": {},
   "source": [
    "## Charge and Discharge Phase "
   ]
  },
  {
   "cell_type": "code",
   "execution_count": null,
   "id": "216dccf4",
   "metadata": {},
   "outputs": [],
   "source": [
    "# Add a Phase column to label each row for charge and discharge\n",
    "df_all['Phase'] = df_all['Current(A)'].apply(\n",
    "    lambda i: 'Charge'    if i >  0 else\n",
    "              ('Discharge' if i < 0 else 'Idle')\n",
    ")"
   ]
  },
  {
   "cell_type": "code",
   "execution_count": null,
   "id": "207d3d62",
   "metadata": {},
   "outputs": [],
   "source": [
    "df_all"
   ]
  },
  {
   "cell_type": "markdown",
   "id": "b850b4cd",
   "metadata": {},
   "source": [
    "This classifies each data point as charge, discharge, or idle. By grouping by cycle index, the sequence of phases in each cycle. From Cycle 2, each cycle contains a full charge step followed by a full discharge step (and some rest periods at the transitions). This entire charge–discharge sequence as one cycle (Cycle_Index increment per full cycle). For example, in cycle 2 of cell 1, the first ~1200 seconds have +4.807 A (charge), then a rest (0 A), then ~1250 seconds of –4.807 A (discharge), then rest. Similarly, cell 2’s cycles have +7.2 A and –7.2 A segments. We will use this phase information to calculate charge/discharge capacities per cycle."
   ]
  },
  {
   "cell_type": "markdown",
   "id": "0680b9d7",
   "metadata": {},
   "source": [
    "## Capacity Calculation"
   ]
  },
  {
   "cell_type": "code",
   "execution_count": null,
   "id": "52f0fd03",
   "metadata": {},
   "outputs": [],
   "source": [
    "# Normalizing the phase column once before loop\n",
    "df_all[\"Phase\"] = df_all[\"Phase\"].str.lower()\n",
    "\n",
    "# nominal capacity and calculate C-rate\n",
    "nominal_capacity = 2.3\n",
    "df_all[\"C-rate\"] = df_all[\"Current(A)\"] / nominal_capacity\n",
    "\n",
    "# Calculate delta time per cycle using 'Time_s'\n",
    "df_all[\"delta_time\"] = df_all.groupby([\"source\", \"Cycle_Index\"])[\"Time_s\"].diff().fillna(0)\n",
    "\n",
    "# Calculate incremental capacity dQ in Ah\n",
    "df_all[\"dQ\"] = df_all[\"Current(A)\"] * df_all[\"delta_time\"] / 3600\n",
    "\n",
    "# Compute charge and discharge capacity per cycle\n",
    "cycle_data = []\n",
    "for (source, cycle), group in df_all.groupby([\"source\", \"Cycle_Index\"]):\n",
    "    charge_capacity = group.loc[group[\"Phase\"] == \"charge\", \"dQ\"].sum()\n",
    "    discharge_capacity = -group.loc[group[\"Phase\"] == \"discharge\", \"dQ\"].sum()\n",
    "    cycle_data.append({\n",
    "        \"source\": source,\n",
    "        \"Cycle_Index\": cycle,\n",
    "        \"charge_capacity_Ah\": charge_capacity,\n",
    "        \"discharge_capacity_Ah\": discharge_capacity\n",
    "    })\n",
    "\n",
    "df_cycle = pd.DataFrame(cycle_data)\n"
   ]
  },
  {
   "cell_type": "code",
   "execution_count": null,
   "id": "0a1b2651",
   "metadata": {},
   "outputs": [],
   "source": [
    "df_cycle"
   ]
  },
  {
   "cell_type": "markdown",
   "id": "9d8e05ca",
   "metadata": {},
   "source": [
    "This is  coulomb counting, summing the charge transferred over time to get capacity. We apply this integration separately for charge and discharge segments in each cycle (so that charge capacity and discharge capacity are computed independently).\n",
    "For Test cell 1, charge/discharge capacities decrease to ~1.67 Ah downwards. For Test cell 2, same happens when it reach to lower cycles. Discharge capacity is slightly less than charge. This is expected due to coulombic inefficiency."
   ]
  },
  {
   "cell_type": "code",
   "execution_count": null,
   "id": "a4a535c6",
   "metadata": {},
   "outputs": [],
   "source": [
    "df_cycle[\"coulombic_efficiency_percent\"] = (\n",
    "    df_cycle[\"discharge_capacity_Ah\"] / df_cycle[\"charge_capacity_Ah\"]\n",
    ") * 100"
   ]
  },
  {
   "cell_type": "code",
   "execution_count": null,
   "id": "3649cb93",
   "metadata": {},
   "outputs": [],
   "source": [
    "df_cycle"
   ]
  },
  {
   "cell_type": "code",
   "execution_count": null,
   "id": "290594b2",
   "metadata": {},
   "outputs": [],
   "source": [
    "for source in df_cycle[\"source\"].unique():\n",
    "    subset = df_cycle[df_cycle[\"source\"] == source]\n",
    "    plt.plot(subset[\"Cycle_Index\"], subset[\"coulombic_efficiency_percent\"], label=source)\n",
    "\n",
    "plt.xlabel(\"Cycle Index\")\n",
    "plt.ylabel(\"Coulombic Efficiency (%)\")\n",
    "plt.title(\"Coulombic Efficiency vs Cycle\")\n",
    "plt.legend()\n",
    "plt.grid(True)\n",
    "plt.show()"
   ]
  },
  {
   "cell_type": "markdown",
   "id": "b411e765",
   "metadata": {},
   "source": [
    "Test cell 1 (blue) starts above 101% in early cycles and get stable around 99.2–99.5%. Test cell 2 starts near 100.5%, then shows more fluctuation.Test cell 1 is more stable may be due to lower C-rate. Test cell 2 degrades faster, and CE fluctuation supports this."
   ]
  },
  {
   "cell_type": "markdown",
   "id": "b63e931f",
   "metadata": {},
   "source": [
    "## C-rate"
   ]
  },
  {
   "cell_type": "code",
   "execution_count": null,
   "id": "8e344210",
   "metadata": {
    "scrolled": true
   },
   "outputs": [],
   "source": [
    "df_all"
   ]
  },
  {
   "cell_type": "code",
   "execution_count": null,
   "id": "d1cc2665",
   "metadata": {},
   "outputs": [],
   "source": [
    "cell1_current = df_all[df_all[\"source\"] == \"Test cell 1\"][\"Current(A)\"].abs().mode()[0]\n",
    "cell2_current = df_all[df_all[\"source\"] == \"Test cell 2\"][\"Current(A)\"].abs().mode()[0]\n",
    "c_rate_cell1 = round(cell1_current / 2.3, 2) \n",
    "c_rate_cell2 = round(cell2_current / 2.3, 2) \n",
    "avg_cap_cell1 = df_cycle[df_cycle[\"source\"] == \"Test cell 1\"][\"discharge_capacity_Ah\"].mean()\n",
    "avg_cap_cell2 = df_cycle[df_cycle[\"source\"] == \"Test cell 2\"][\"discharge_capacity_Ah\"].mean()\n"
   ]
  },
  {
   "cell_type": "code",
   "execution_count": null,
   "id": "7e0a3a88",
   "metadata": {},
   "outputs": [],
   "source": [
    "avg_cap_cell1"
   ]
  },
  {
   "cell_type": "code",
   "execution_count": null,
   "id": "b2eb44ad",
   "metadata": {},
   "outputs": [],
   "source": [
    "avg_cap_cell2"
   ]
  },
  {
   "cell_type": "markdown",
   "id": "d4427d4f",
   "metadata": {},
   "source": [
    "Using the nominal capacity of 2.3 Ah, the calculated C-rate for Test Cell 1 is ~2.09 C, based on a dominant cycling current of 4.807 A, while Test Cell 2 operated at a higher C-rate of approximately 3.13 C with a current of 7.2 A. From the processed cycle data, the average discharge capacity observed for Cell 1 was 0.94 Ah, whereas Cell 2 delivered a significantly lower 0.64 Ah on average.This helps to interpret results that. Higher C-rate puts more stress on the battery. it shows that a higher C rate will produce a lower capacity reading.This may be due to increased internal losses at faster discharge."
   ]
  },
  {
   "cell_type": "markdown",
   "id": "03c3d852",
   "metadata": {},
   "source": [
    "### Voltage–Capacity Profiles"
   ]
  },
  {
   "cell_type": "code",
   "execution_count": null,
   "id": "1868f032",
   "metadata": {},
   "outputs": [],
   "source": [
    "# Necessary cycles and phase\n",
    "selected_cycles = [3, 20, 40, 60, 100]\n",
    "phase = \"charge\"\n",
    "\n",
    "# Create subplots in a single row (2 cells side-by-side)\n",
    "fig, axes = plt.subplots(1, 2, figsize=(16, 5), sharey=True)\n",
    "\n",
    "# Ensure phase to lowercase for consistent comparison\n",
    "df_all[\"Phase\"] = df_all[\"Phase\"].str.lower()\n",
    "\n",
    "# Loop through both test cells and plot\n",
    "for ax, cell in zip(axes, df_all[\"source\"].unique()):\n",
    "    for cycle in selected_cycles:\n",
    "        # Filter data\n",
    "        mask = (\n",
    "            (df_all[\"source\"] == cell) &\n",
    "            (df_all[\"Cycle_Index\"] == cycle) &\n",
    "            (df_all[\"Phase\"] == phase)\n",
    "        )\n",
    "        data = df_all[mask]\n",
    "\n",
    "        if not data.empty:\n",
    "            ax.plot(data[\"Capacity(Ah)\"], data[\"Voltage(V)\"], label=f\"Cycle {cycle}\")\n",
    "\n",
    "    ax.set_title(f\"{cell} - Charge\")\n",
    "    ax.set_xlabel(\"Capacity (Ah)\")\n",
    "    ax.grid(True)\n",
    "    ax.legend()\n",
    "\n",
    "axes[0].set_ylabel(\"Voltage (V)\")\n",
    "plt.suptitle(\"Charge Voltage vs Capacity for Selected Cycles\")\n",
    "plt.tight_layout(rect=[0, 0, 1, 0.95])\n",
    "plt.show()"
   ]
  },
  {
   "cell_type": "markdown",
   "id": "dadd45ce",
   "metadata": {},
   "source": [
    "A voltage increase in the beginning especially from 3.5 V to ~3.75 V as the cell moves off the flat plateau, then a more gradual rise. Notably, Cell 2’s curve is above Cell 1’s curve. The cell’s voltage reach faster and reaches 4.1–4.2 V with less charge input (1.5 Ah) compared to ~1.66 Ah. This reflects the effect of internal resistance and kinetics: the higher current causes a larger IR drop and quicker approach to the voltage cutoff, so the cell accepts slightly less charge before hitting 4.2 V. In other words, at 3C the capacity during charge is lower for the same end-of-charge voltage, consistent with known behavior that fast charging can under-fill the cell due to premature voltage cutoff."
   ]
  },
  {
   "cell_type": "code",
   "execution_count": null,
   "id": "3483fcf7",
   "metadata": {},
   "outputs": [],
   "source": [
    "\n",
    "# No of cycles and phase for discharge\n",
    "selected_cycles = [3, 20, 40, 60, 100]\n",
    "phase = \"discharge\"\n",
    "\n",
    "# Create subplots in a single row \n",
    "fig, axes = plt.subplots(1, 2, figsize=(16, 5), sharey=True)\n",
    "\n",
    "# Ensure phase to  lowercase for consistent comparison\n",
    "df_all[\"Phase\"] = df_all[\"Phase\"].str.lower()\n",
    "\n",
    "# Loop through both test cells and plot discharge voltage vs capacity\n",
    "for ax, cell in zip(axes, df_all[\"source\"].unique()):\n",
    "    for cycle in selected_cycles:\n",
    "        # Filter data\n",
    "        mask = (\n",
    "            (df_all[\"source\"] == cell) &\n",
    "            (df_all[\"Cycle_Index\"] == cycle) &\n",
    "            (df_all[\"Phase\"] == phase)\n",
    "        )\n",
    "        data = df_all[mask]\n",
    "\n",
    "        if not data.empty:\n",
    "            ax.plot(data[\"Capacity(Ah)\"], data[\"Voltage(V)\"], label=f\"Cycle {cycle}\")\n",
    "\n",
    "    ax.set_title(f\"{cell} - Discharge\")\n",
    "    ax.set_xlabel(\"Capacity (Ah)\")\n",
    "    ax.grid(True)\n",
    "    ax.legend()\n",
    "\n",
    "axes[0].set_ylabel(\"Voltage (V)\")\n",
    "plt.suptitle(\"Discharge Voltage vs Capacity for Selected Cycles\")\n",
    "plt.tight_layout(rect=[0, 0, 1, 0.95])\n",
    "plt.show()\n"
   ]
  },
  {
   "cell_type": "markdown",
   "id": "943ab1fc",
   "metadata": {},
   "source": [
    "Here if we consider cycle 3 , capacity on x-axis is the discharged Ah starting from 0 at full charge, and voltage (y-axis) drops from ~3.8 V down to ~3.0 V.On discharge, both cells shows a sloping voltage decline with a characteristic nominal platea around 3.6–3.7 V for much of the mid-capacity range. The Cell2 is lower in voltage at any given capacity than cell 1 curve.( may be  due to the higher IR drop at the larger current). Cell2 hits the low-voltage cutoff (around 3.0 V) after about 1.46 Ah is discharged, whereas Cell1 delivers ~1.66 Ah before reaching the cutoff. This shows a higher C rate produces a lower capacity reading. At second cell the usable capacity in that cycle is less. In summary, cell2 discharge not only started from a slightly lower charged state, but also suffers greater voltage low, leading to end early."
   ]
  },
  {
   "cell_type": "markdown",
   "id": "5e37623f",
   "metadata": {},
   "source": [
    "## Capacity vs Cycle Count Trends"
   ]
  },
  {
   "cell_type": "code",
   "execution_count": null,
   "id": "3e34c003",
   "metadata": {},
   "outputs": [],
   "source": [
    "# Plot Charge and Discharge Capacity vs Cycle Count using all available data\n",
    "fig, axes = plt.subplots(1, 2, figsize=(13, 5), sharey=True)\n",
    "\n",
    "# Plot Charge Capacity\n",
    "for cell in df_cycle[\"source\"].unique():\n",
    "    subset = df_cycle[df_cycle[\"source\"] == cell]\n",
    "    axes[0].plot(subset[\"Cycle_Index\"], subset[\"charge_capacity_Ah\"], marker='o', label=cell)\n",
    "\n",
    "axes[0].set_title(\"Charge Capacity vs Cycle Count\")\n",
    "axes[0].set_xlabel(\"Cycle Index\")\n",
    "axes[0].set_ylabel(\"Capacity (Ah)\")\n",
    "axes[0].legend()\n",
    "axes[0].grid(True)\n",
    "\n",
    "# Plot Discharge Capacity\n",
    "for cell in df_cycle[\"source\"].unique():\n",
    "    subset = df_cycle[df_cycle[\"source\"] == cell]\n",
    "    axes[1].plot(subset[\"Cycle_Index\"], subset[\"discharge_capacity_Ah\"], marker='o', label=cell)\n",
    "\n",
    "axes[1].set_title(\"Discharge Capacity vs Cycle Count\")\n",
    "axes[1].set_xlabel(\"Cycle Index\")\n",
    "axes[1].legend()\n",
    "axes[1].grid(True)\n",
    "\n",
    "plt.suptitle(\"Charge and Discharge Capacity vs Cycle Count (All Cycles)\")\n",
    "plt.tight_layout(rect=[0, 0, 1, 0.95])\n",
    "plt.show()"
   ]
  },
  {
   "cell_type": "markdown",
   "id": "17fa3288",
   "metadata": {},
   "source": [
    "In charge capacity, both cells start approximately 1.6–1.7 Ah charge capacity starts from Cycle 2. From there, the charge capacity drops as cycles progress. Cell1 declines from ~1.67 Ah to about 0.45 Ah by cycle 100. Cell2 starts at ~1.50 Ah and falls to about 0.27 Ah by cycle 100. The higher C-rate may cause the fade by cycle (50-50). Both curves are smoothly and gradually declining, though Cell2’s curve is more declining. "
   ]
  },
  {
   "cell_type": "markdown",
   "id": "7eedc534",
   "metadata": {},
   "source": [
    "In the discharge capacity plot,In Cycle 2 capacity drops from ~1.68 Ah for rest cell 1 and ~1.51 Ah for test cell 2.\n",
    "After that, a more gradual decline can be seen. We see Cell1’s capacity decreasing from ~1.6 Ah at cycle 2 down to ~0.45 Ah at cycle 100. Cell2 declines from ~1.5 Ah to ~0.27 Ah by cycle 100. By cycle ~50, Cell1 have about ~0.9–1.0 Ah, while Cell2 is around ~0.6–0.7 Ah. So here The higher C-rate cell exhibits a faster capacity fade. In fact, by 100 cycles the test cell 2 has lost ~90% of its initial capacity, whereas the 2C cell lost ~80%. Both cells have effectively reached end-of-life criteria (often defined as 80% capacity loss) very quickly, but the 3C cell reached that threshold in fewer cycles."
   ]
  },
  {
   "cell_type": "markdown",
   "id": "6f9db8c7",
   "metadata": {},
   "source": [
    "## Effect of C-rate"
   ]
  },
  {
   "cell_type": "markdown",
   "id": "d6b4bc4d",
   "metadata": {},
   "source": [
    "Comparing the two cells, we can say the effect of the different C-rates \n",
    "\n",
    "1.Lower per-cycle capacity . At the higher current, each discharge delivered less energy and capacity than the lower current case, due to increased internal losses. Higher discharge rates cause lower measured capacity because not all the stored\n",
    "charge can be utilized at high draw.\n",
    "\n",
    "2.Faster degradation : -  High C rates increases the mechanical and chemical degradation. They cause more heat generation, higher mechanical strain on electrodes, and can also cause the side reactions (SEI growth, lithium plating during charging, etc.) can reduce capacity. "
   ]
  },
  {
   "cell_type": "code",
   "execution_count": null,
   "id": "d6d3d255",
   "metadata": {},
   "outputs": [],
   "source": [
    "# Make c_rate_abs\n",
    "if \"c_rate_abs\" not in df_all.columns:\n",
    "    df_all[\"c_rate_abs\"] = df_all[\"C-rate\"].abs()\n",
    "\n",
    "# Compute per‐cycle mean absolute C‐rate\n",
    "cycle_cr = (\n",
    "    df_all\n",
    "      .groupby(['source', 'Cycle_Index'])['c_rate_abs']\n",
    "      .mean()\n",
    "      .reset_index(name='mean_c_rate')\n",
    ")\n",
    "\n",
    "# Plot\n",
    "plt.figure(figsize=(7, 5))\n",
    "for src, color in zip(cycle_cr['source'].unique(), ['tab:blue', 'tab:orange']):\n",
    "    sub = cycle_cr[cycle_cr['source'] == src]\n",
    "    plt.plot(sub['Cycle_Index'], sub['mean_c_rate'],\n",
    "             marker='o', linestyle='-', color=color, label=src)\n",
    "\n",
    "plt.xlabel('Cycle Index')\n",
    "plt.ylabel('Mean |C-rate| (1/h)')\n",
    "plt.title('Average C-rate vs. Cycle Index')\n",
    "plt.legend()\n",
    "plt.grid(True, linestyle='--', alpha=0.5)\n",
    "plt.tight_layout()\n",
    "plt.show()\n"
   ]
  },
  {
   "cell_type": "markdown",
   "id": "13f4ff43",
   "metadata": {},
   "source": [
    "During Constant Current (CC), the is current is fixed, so C-rate is high. Once the voltage limit is reached, CV mode comes in and current begins to change mean C-rate per cycle drops. As capacity fades over time, we begain to hit the voltage limit sooner and that increases the time of each cycle spent in CV. And thus lowering average C-rate further.The effect is more in Test Cell 2, consistent with its higher initial C-rate and more aggressive cycling."
   ]
  },
  {
   "cell_type": "markdown",
   "id": "a65dad2c",
   "metadata": {},
   "source": [
    "## Capacity Fade Extrapolation with Machine Learning"
   ]
  },
  {
   "cell_type": "markdown",
   "id": "347443ef",
   "metadata": {},
   "source": [
    "To model and extrapolate the charge capacity degradation of two lithium-ion cells (Test cell 1 and Test cell 2) up to 100 cycles, I used two different approaches:\n",
    "\n",
    "1. Polynomial Ridge Regression\n",
    "\n",
    "2. Exponential Decay Fitting"
   ]
  },
  {
   "cell_type": "markdown",
   "id": "17773614",
   "metadata": {},
   "source": [
    "For Polynomial Ridge Regression\n",
    "1. Created a pipeline with:StandardScaler, PolynomialFeatures, Ridge – to regularize polynomial coefficients\n",
    "2. used GridSearchCv to choose optimal polynomial degree and alpa\n",
    "3. Trained the model on training set\n",
    "4. Evaluated on test set\n"
   ]
  },
  {
   "cell_type": "code",
   "execution_count": null,
   "id": "3792ae5a",
   "metadata": {},
   "outputs": [],
   "source": [
    "# Define exponential decay function\n",
    "def exp_decay(x, A, B, C):\n",
    "    return A * np.exp(-B * x) + C\n",
    "\n",
    "# Store results\n",
    "results = []\n",
    "\n",
    "for src in ['Test cell 1', 'Test cell 2']:\n",
    "    sub_df = df_cycle[df_cycle['source'] == src].copy()\n",
    "    sub_df = sub_df[sub_df['Cycle_Index'] <= 100]\n",
    "\n",
    "    # Split data\n",
    "    train = sub_df[sub_df['Cycle_Index'] <= 80]\n",
    "    test  = sub_df[sub_df['Cycle_Index'] >  80]\n",
    "\n",
    "    X_train = train[['Cycle_Index']]\n",
    "    y_train = train['charge_capacity_Ah']\n",
    "    X_test  = test[['Cycle_Index']]\n",
    "    y_test  = test['charge_capacity_Ah']\n",
    "\n",
    "    # Polynomial Ridge Regression\n",
    "    pipe = Pipeline([\n",
    "        ('scale', StandardScaler()),\n",
    "        ('poly',  PolynomialFeatures(include_bias=False)),\n",
    "        ('ridge', Ridge())\n",
    "    ])\n",
    "\n",
    "    param_grid = {\n",
    "        'poly__degree': [1, 2, 3, 4, 5, 6, 7],\n",
    "        'ridge__alpha': np.linspace(0, 0.1, 21)\n",
    "    }\n",
    "\n",
    "    search = GridSearchCV(pipe, param_grid,\n",
    "                          scoring='neg_root_mean_squared_error',\n",
    "                          cv=4)\n",
    "    search.fit(X_train, y_train)\n",
    "\n",
    "    best = search.best_estimator_\n",
    "    y_pred_test = best.predict(X_test)\n",
    "\n",
    "    train_rmse = -search.best_score_\n",
    "    test_rmse  = np.sqrt(mean_squared_error(y_test, y_pred_test))\n",
    "    train_r2   = best.score(X_train, y_train)\n",
    "    test_r2    = r2_score(y_test, y_pred_test)\n",
    "\n",
    "    # Exponential fit to all 100 cycles\n",
    "    x_full = sub_df['Cycle_Index'].values\n",
    "    y_full = sub_df['charge_capacity_Ah'].values\n",
    "    popt, _ = curve_fit(exp_decay, x_full, y_full, p0=[1.0, 0.01, 0.3])\n",
    "    y_exp_pred = exp_decay(x_full, *popt)\n",
    "    exp_rmse = np.sqrt(mean_squared_error(y_full, y_exp_pred))\n",
    "    exp_r2 = r2_score(y_full, y_exp_pred)\n",
    "\n",
    "    # Save results\n",
    "    results.append({\n",
    "        'source': src,\n",
    "        'poly_degree': search.best_params_['poly__degree'],\n",
    "        'ridge_alpha': search.best_params_['ridge__alpha'],\n",
    "        'poly_train_RMSE': train_rmse,\n",
    "        'poly_test_RMSE': test_rmse,\n",
    "        'poly_train_R2': train_r2,\n",
    "        'poly_test_R2': test_r2,\n",
    "        'exp_A': popt[0],\n",
    "        'exp_B': popt[1],\n",
    "        'exp_C': popt[2],\n",
    "        'exp_RMSE': exp_rmse,\n",
    "        'exp_R2': exp_r2\n",
    "    })\n",
    "\n",
    "    # Plot results\n",
    "    plt.figure(figsize=(7, 5))\n",
    "    plt.scatter(x_full, y_full, label='Observed', alpha=0.6)\n",
    "    plt.plot(x_full, y_exp_pred, label='Exponential Fit', linestyle='--')\n",
    "    plt.plot(x_full, best.predict(pd.DataFrame(x_full, columns=['Cycle_Index'])), label=f'Polynomial Ridge (deg={search.best_params_[\"poly__degree\"]})', linestyle='-.')\n",
    "    plt.title(f'{src} — Capacity Fade Modeling')\n",
    "    plt.xlabel('Cycle Index')\n",
    "    plt.ylabel('charge_capacity_Ah')\n",
    "    plt.legend()\n",
    "    plt.grid(True)\n",
    "    plt.tight_layout()\n",
    "    plt.show()"
   ]
  },
  {
   "cell_type": "code",
   "execution_count": null,
   "id": "417cc312",
   "metadata": {},
   "outputs": [],
   "source": [
    "results"
   ]
  },
  {
   "cell_type": "markdown",
   "id": "56ea9f4d",
   "metadata": {},
   "source": [
    "Exponential Decay performs better for both cells in terms of R² and RMSE.\n",
    "Polynomial Regression overfits slightly and generalizes poorly"
   ]
  },
  {
   "cell_type": "markdown",
   "id": "b09a22e7",
   "metadata": {},
   "source": [
    "### Polynomial extrapolation "
   ]
  },
  {
   "cell_type": "markdown",
   "id": "9962c83f",
   "metadata": {},
   "source": [
    "To model and extrapolate the charge capacity degradation trend of lithium-ion cells (Test cell 1 and Test cell 2) up to 150 cycles using Polynomial Ridge Regression, based on observed data from cycles 1–100."
   ]
  },
  {
   "cell_type": "markdown",
   "id": "e947a78f",
   "metadata": {},
   "source": [
    "1. Defined Target and Input\n",
    "2. Preprocessing\n",
    "3. Polynomial Feature Expansion\n",
    "4. Ridge Regression Fitting\n",
    "5. Extrapolation\n",
    "6. Visualization"
   ]
  },
  {
   "cell_type": "code",
   "execution_count": null,
   "id": "f99a9059",
   "metadata": {},
   "outputs": [],
   "source": [
    "# Define extrapolation range\n",
    "future_cycles = np.arange(101, 151).reshape(-1, 1)\n",
    "\n",
    "# Polynomial model parameters from previous runs\n",
    "poly_models = [\n",
    "    {'source': 'Test cell 1', 'degree': 4, 'alpha': 0.0},\n",
    "    {'source': 'Test cell 2', 'degree': 3, 'alpha': 0.1}\n",
    "]\n",
    "\n",
    "# Plot polynomial extrapolation\n",
    "plt.figure(figsize=(12, 5))\n",
    "\n",
    "for i, model_info in enumerate(poly_models, 1):\n",
    "    src = model_info['source']\n",
    "    degree = model_info['degree']\n",
    "    alpha = model_info['alpha']\n",
    "\n",
    "    sub_df = df_cycle[(df_cycle['source'] == src) & (df_cycle['Cycle_Index'] <= 100)]\n",
    "    X_train = sub_df[['Cycle_Index']]\n",
    "    y_train = sub_df['charge_capacity_Ah']\n",
    "\n",
    "    # Fit polynomial ridge model\n",
    "    scaler = StandardScaler()\n",
    "    X_scaled = scaler.fit_transform(X_train)\n",
    "    poly = PolynomialFeatures(degree=degree, include_bias=False)\n",
    "    X_poly = poly.fit_transform(X_scaled)\n",
    "    ridge = Ridge(alpha=alpha)\n",
    "    ridge.fit(X_poly, y_train)\n",
    "\n",
    "    # Prepare future predictions\n",
    "    X_future_scaled = scaler.transform(future_cycles)\n",
    "    X_future_poly = poly.transform(X_future_scaled)\n",
    "    y_future_pred = ridge.predict(X_future_poly)\n",
    "\n",
    "    # Plot observed and extrapolated values\n",
    "    plt.subplot(1, 2, i)\n",
    "    plt.plot(X_train['Cycle_Index'], y_train, 'o', label='Observed')\n",
    "    plt.plot(future_cycles, y_future_pred, '--', label='Extrapolated (101–150)')\n",
    "    plt.title(f'{src} — Polynomial Ridge Extrapolation')\n",
    "    plt.xlabel('Cycle Index')\n",
    "    plt.ylabel('Charge Capacity (Ah)')\n",
    "    plt.legend()\n",
    "    plt.grid(True)\n",
    "\n",
    "plt.tight_layout()\n",
    "plt.show()\n"
   ]
  },
  {
   "cell_type": "markdown",
   "id": "b2d35e53",
   "metadata": {},
   "source": [
    "### Exponential Decay"
   ]
  },
  {
   "cell_type": "markdown",
   "id": "0d209813",
   "metadata": {},
   "source": [
    "To model and extrapolate the charge capacity degradation of two lithium-ion cells Test cell 1 and Test cell 2 using an exponential decay model, and to predict capacity up to 150 cycles."
   ]
  },
  {
   "cell_type": "code",
   "execution_count": null,
   "id": "0145f2ae",
   "metadata": {},
   "outputs": [],
   "source": [
    "# Reuse the exponential decay function\n",
    "def exp_decay(x, A, B, C):\n",
    "    return A * np.exp(-B * x) + C\n",
    "\n",
    "# Define extrapolation range\n",
    "future_cycles = np.arange(101, 151)\n",
    "plt.figure(figsize=(12, 5))\n",
    "\n",
    "# Use known exponential parameters from previous fit\n",
    "exp_params = [\n",
    "    {'source': 'Test cell 1', 'A': 1.874991946559719, 'B': 0.013597940407876992, 'C': -0.061638824292229714},\n",
    "    {'source': 'Test cell 2', 'A': 1.3964637594959726, 'B': 0.028905098708706504, 'C': 0.20936484928447968}\n",
    "]\n",
    "\n",
    "for i, params in enumerate(exp_params, 1):\n",
    "    src = params['source']\n",
    "    A, B, C = params['A'], params['B'], params['C']\n",
    "\n",
    "    observed = df_cycle[(df_cycle['source'] == src) & (df_cycle['Cycle_Index'] <= 100)]\n",
    "    x_obs = observed['Cycle_Index']\n",
    "    y_obs = observed['charge_capacity_Ah']\n",
    "    y_future = exp_decay(future_cycles, A, B, C)\n",
    "\n",
    "    plt.subplot(1, 2, i)\n",
    "    plt.plot(x_obs, y_obs, 'o', label='Observed')\n",
    "    plt.plot(future_cycles, y_future, '--', label='Extrapolated (101–150)')\n",
    "    plt.title(f'{src} — Exponential Extrapolation')\n",
    "    plt.xlabel('Cycle Index')\n",
    "    plt.ylabel('Charge Capacity (Ah)')\n",
    "    plt.legend()\n",
    "    plt.grid(True)\n",
    "\n",
    "plt.tight_layout()\n",
    "plt.show()\n"
   ]
  },
  {
   "cell_type": "markdown",
   "id": "b2d2f870",
   "metadata": {},
   "source": [
    "If we go for a comparison between the two models polynomial ridge is good fit for training, sharp drop after 100 cycles and overfitting the tail. In case of exponential fit there is monotonically decreasing.Can be considered as battery degrading curve."
   ]
  },
  {
   "cell_type": "markdown",
   "id": "0b3bc0c7",
   "metadata": {},
   "source": [
    "# SOH"
   ]
  },
  {
   "cell_type": "markdown",
   "id": "2ca672c0",
   "metadata": {},
   "source": [
    "##  State of Health (SoH) from the charge capacity of each cycle"
   ]
  },
  {
   "cell_type": "code",
   "execution_count": null,
   "id": "e98fac07",
   "metadata": {},
   "outputs": [],
   "source": [
    "cycle_caps = df_cycle.rename(columns={'charge_capacity_Ah': 'Charge_Capacity_Ah'})\n",
    "cycle_caps['SoH_%'] = (\n",
    "    cycle_caps\n",
    "    .groupby('source')['Charge_Capacity_Ah']\n",
    "    .transform(lambda x: x / x.iloc[0] * 100)\n",
    ")\n",
    "\n",
    "plt.figure(figsize=(6, 4))\n",
    "for src in cycle_caps['source'].unique():\n",
    "    sub = cycle_caps[cycle_caps['source'] == src]\n",
    "    plt.plot(sub['Cycle_Index'], sub['SoH_%'], marker='o', label=src)\n",
    "\n",
    "plt.axhline(70, color='k', linestyle='--', label='80% SoH')\n",
    "plt.xlabel('Cycle Index')\n",
    "plt.ylabel('State of Health (%)')\n",
    "plt.title('Battery SoH vs. Cycle Index')\n",
    "plt.ylim(60, 105)\n",
    "plt.grid(True)\n",
    "plt.legend()\n",
    "plt.tight_layout()\n",
    "plt.show()\n"
   ]
  },
  {
   "cell_type": "markdown",
   "id": "911dbef5",
   "metadata": {},
   "source": [
    "The SOH definition is from the capacity perspective the ratio of the current maximum available capacity to the initial maximum capacity as the SOH evaluation index.Here its grouped by two cell as Test cell 1 and Test cell 2 separately.\n",
    "Take the charge capacity at cycle 1 as the 100 % reference. Then divide every subsequent cycle’s capacity (x) by that initial capacity, then multiply by 100 to turn it into a percent.\n",
    "The SOH is effected by the cycle number, Temperature and charge/ discharge rate. As the number of cycles increases, the SEI membrane continually grows, which raises the cell’s impedance and reduces its ability to store lithium and SOH reduces. Here temperature is 25°C. And high C rate cause SEI growth, graphite shedding, lithium plating, dendrite growth, and electrode-particle cracking, which together increase impedance and diminish both lithium capacity and active-material integrity.\n",
    "Test cell 2 degrades faster, likely due to a higher C-rate.\n",
    "These EOL cycle points where SOH is reducing to 80% is used for predicting Remaining Useful Life (RUL)."
   ]
  },
  {
   "cell_type": "code",
   "execution_count": null,
   "id": "6b44b066",
   "metadata": {},
   "outputs": [],
   "source": [
    "# function to find the first cycle where SoH drops below 80%\n",
    "def cycle_to_threshold(df, thresh=80):\n",
    "    sub = df.sort_values('Cycle_Index')\n",
    "    # find two points bracketing 80% SoH\n",
    "    above = sub[sub['SoH_%'] >= thresh]\n",
    "    below = sub[sub['SoH_%'] <= thresh]\n",
    "    if above.empty or below.empty:\n",
    "        return None\n",
    "    i1 = above['Cycle_Index'].max()\n",
    "    i2 = below['Cycle_Index'].min()\n",
    "    s1 = above.loc[above['Cycle_Index']==i1, 'SoH_%'].values[0]\n",
    "    s2 = below.loc[below['Cycle_Index']==i2, 'SoH_%'].values[0]\n",
    "    # linear interpolation\n",
    "    return i1 + (thresh - s1) * (i2 - i1) / (s2 - s1)\n",
    "\n",
    "for src in cycle_caps['source'].unique():\n",
    "    sub = cycle_caps[cycle_caps['source']==src]\n",
    "    life = cycle_to_threshold(sub, 80)\n",
    "    print(f\"{src} reaches 80% SoH at ~cycle {life:.1f}\")\n"
   ]
  },
  {
   "cell_type": "markdown",
   "id": "9553b757",
   "metadata": {},
   "source": [
    "## State of Health (SoH) from the discharge charge capacity of each cycle"
   ]
  },
  {
   "cell_type": "markdown",
   "id": "b48950f8",
   "metadata": {},
   "source": [
    "For most practical cases, for SOH analysis discharge capacity is used. Its mainly that what it measures is how much energy the battery delivers."
   ]
  },
  {
   "cell_type": "code",
   "execution_count": null,
   "id": "2e66efb5",
   "metadata": {},
   "outputs": [],
   "source": [
    "cycle_caps = df_cycle.rename(columns={'discharge_capacity_Ah': 'Discharge_Capacity_Ah'})\n",
    "cycle_caps['SoH_%'] = (\n",
    "    cycle_caps\n",
    "    .groupby('source')['Discharge_Capacity_Ah']\n",
    "    .transform(lambda x: x / x.iloc[0] * 100)\n",
    ")\n",
    "\n",
    "plt.figure(figsize=(6, 4))\n",
    "for src in cycle_caps['source'].unique():\n",
    "    sub = cycle_caps[cycle_caps['source'] == src]\n",
    "    plt.plot(sub['Cycle_Index'], sub['SoH_%'], marker='o', label=src)\n",
    "\n",
    "plt.axhline(70, color='k', linestyle='--', label='80% SoH')\n",
    "plt.xlabel('Cycle Index')\n",
    "plt.ylabel('State of Health (%)')\n",
    "plt.title('Battery SoH vs. Cycle Index')\n",
    "plt.ylim(60, 105)\n",
    "plt.grid(True)\n",
    "plt.legend()\n",
    "plt.tight_layout()\n",
    "plt.show()\n"
   ]
  },
  {
   "cell_type": "code",
   "execution_count": null,
   "id": "8074558a",
   "metadata": {},
   "outputs": [],
   "source": [
    "#function to find the first cycle where SoH drops below 80%\n",
    "def cycle_to_threshold(df, thresh=80):\n",
    "    sub = df.sort_values('Cycle_Index')\n",
    "    # find two points bracketing 80% SoH\n",
    "    above = sub[sub['SoH_%'] >= thresh]\n",
    "    below = sub[sub['SoH_%'] <= thresh]\n",
    "    if above.empty or below.empty:\n",
    "        return None\n",
    "    i1 = above['Cycle_Index'].max()\n",
    "    i2 = below['Cycle_Index'].min()\n",
    "    s1 = above.loc[above['Cycle_Index']==i1, 'SoH_%'].values[0]\n",
    "    s2 = below.loc[below['Cycle_Index']==i2, 'SoH_%'].values[0]\n",
    "    # linear interpolation\n",
    "    return i1 + (thresh - s1) * (i2 - i1) / (s2 - s1)\n",
    "\n",
    "for src in cycle_caps['source'].unique():\n",
    "    sub = cycle_caps[cycle_caps['source']==src]\n",
    "    life = cycle_to_threshold(sub, 80)\n",
    "    print(f\"{src} reaches 80% SoH at ~cycle {life:.1f}\")\n"
   ]
  }
 ],
 "metadata": {
  "kernelspec": {
   "display_name": "Python 3 (ipykernel)",
   "language": "python",
   "name": "python3"
  },
  "language_info": {
   "codemirror_mode": {
    "name": "ipython",
    "version": 3
   },
   "file_extension": ".py",
   "mimetype": "text/x-python",
   "name": "python",
   "nbconvert_exporter": "python",
   "pygments_lexer": "ipython3",
   "version": "3.11.5"
  }
 },
 "nbformat": 4,
 "nbformat_minor": 5
}
